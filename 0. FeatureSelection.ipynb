{
 "cells": [
  {
   "cell_type": "code",
   "execution_count": 3,
   "id": "63644457",
   "metadata": {},
   "outputs": [],
   "source": [
    "# Data Wrangling\n",
    "import pandas as pd\n",
    "from pandas import Series, DataFrame\n",
    "import numpy as np\n",
    "\n",
    "# Visualization\n",
    "import matplotlib.pylab as plt\n",
    "from matplotlib import font_manager, rc\n",
    "import seaborn as sns\n",
    "%matplotlib inline\n",
    "\n",
    "# EDA\n",
    "# import klib\n",
    "\n",
    "# Preprocessing & Feature Engineering\n",
    "from sklearn.model_selection import train_test_split\n",
    "from sklearn.preprocessing import MinMaxScaler\n",
    "from sklearn.impute import SimpleImputer \n",
    "from sklearn.preprocessing import StandardScaler\n",
    "from sklearn.preprocessing import MinMaxScaler\n",
    "from sklearn.preprocessing import PowerTransformer\n",
    "from sklearn.feature_selection import SelectPercentile\n",
    "from sklearn import base\n",
    "from sklearn.model_selection import KFold\n",
    "from sklearn.model_selection import StratifiedShuffleSplit\n",
    "from sklearn.model_selection import StratifiedKFold\n",
    "from sklearn.experimental import enable_iterative_imputer  # still experimental \n",
    "from sklearn.impute import IterativeImputer\n",
    "from sklearn.feature_selection import RFE\n",
    "\n",
    "\n",
    "# Hyperparameter Optimization\n",
    "from sklearn.model_selection import GridSearchCV\n",
    "from sklearn.model_selection import RandomizedSearchCV\n",
    "\n",
    "# Modeling\n",
    "from sklearn.dummy import DummyClassifier\n",
    "from lightgbm import LGBMClassifier\n",
    "from sklearn.linear_model import Ridge, Lasso, ElasticNet\n",
    "from sklearn.linear_model import BayesianRidge\n",
    "\n",
    "# Evaluation\n",
    "from sklearn.metrics import roc_auc_score\n",
    "from sklearn.metrics import accuracy_score\n",
    "from sklearn.model_selection import cross_val_score\n",
    "from sklearn.metrics import mean_squared_error\n",
    "\n",
    "# Utility\n",
    "import os\n",
    "import time\n",
    "import random\n",
    "import sys, warnings\n",
    "if not sys.warnoptions: warnings.simplefilter(\"ignore\")\n",
    "from IPython.display import Image\n",
    "# import pickle\n",
    "from tqdm import tqdm\n",
    "import platform\n",
    "from itertools import combinations\n",
    "from scipy.stats.mstats import gmean\n",
    "# from tensorflow import keras\n",
    "\n",
    "# from bayes_opt import BayesianOptimization"
   ]
  },
  {
   "cell_type": "code",
   "execution_count": 4,
   "id": "6757432a",
   "metadata": {},
   "outputs": [],
   "source": [
    "num_features_train = pd.read_csv(os.path.abspath(\"../input\")+\"/choi_num_features_train.csv\" , encoding = 'utf-8')\n",
    "num_features_test = pd.read_csv(os.path.abspath(\"../input\")+\"/choi_num_features_test.csv\" , encoding = 'utf-8')"
   ]
  },
  {
   "cell_type": "code",
   "execution_count": 5,
   "id": "cf74dc90",
   "metadata": {},
   "outputs": [],
   "source": [
    "onehot_features_train = pd.read_csv(os.path.abspath(\"../input\")+'/choi_onehot_features_train.csv' , encoding = 'utf-8')\n",
    "onehot_features_test = pd.read_csv(os.path.abspath(\"../input\")+'/choi_onehot_features_test.csv' , encoding = 'utf-8')"
   ]
  },
  {
   "cell_type": "code",
   "execution_count": 6,
   "id": "26a090f4",
   "metadata": {},
   "outputs": [],
   "source": [
    "w2v_features_train = pd.read_csv(os.path.abspath(\"../input\")+'/choi_w2v_features_train.csv' , encoding = 'utf-8')\n",
    "w2v_features_test = pd.read_csv(os.path.abspath(\"../input\")+'/choi_w2v_features_test.csv' , encoding = 'utf-8')"
   ]
  },
  {
   "cell_type": "code",
   "execution_count": 7,
   "id": "4f0c9da7",
   "metadata": {},
   "outputs": [],
   "source": [
    "kmean_train_num = pd.read_csv(os.path.abspath(\"../input\")+'/choi_features_k_train_num.csv' , encoding = 'utf-8')\n",
    "kmean_test_num = pd.read_csv(os.path.abspath(\"../input\")+'/choi_features_k_test_num.csv' , encoding = 'utf-8')\n",
    "kmean_train = pd.read_csv(os.path.abspath(\"../input\")+'/choi_features_k_train.csv' , encoding = 'utf-8')\n",
    "kmean_test = pd.read_csv(os.path.abspath(\"../input\")+'/choi_features_k_test.csv' , encoding = 'utf-8')"
   ]
  },
  {
   "cell_type": "markdown",
   "id": "77f3de2e",
   "metadata": {},
   "source": [
    "## *numeric scaling*"
   ]
  },
  {
   "cell_type": "code",
   "execution_count": 8,
   "id": "1f92e195",
   "metadata": {},
   "outputs": [],
   "source": [
    "train_id = num_features_train['custid'].unique()\n",
    "tst_id = num_features_test['custid'].unique()"
   ]
  },
  {
   "cell_type": "code",
   "execution_count": 9,
   "id": "63291021",
   "metadata": {
    "scrolled": true
   },
   "outputs": [],
   "source": [
    "num_features_train = num_features_train.drop(columns = 'custid')\n",
    "num_features_test = num_features_test.drop(columns = 'custid')"
   ]
  },
  {
   "cell_type": "code",
   "execution_count": 10,
   "id": "e920ae3d",
   "metadata": {},
   "outputs": [],
   "source": [
    "train_features = [c for c in num_features_train.columns.tolist()]\n",
    "test_features = [c for c in num_features_test.columns.tolist()]"
   ]
  },
  {
   "cell_type": "code",
   "execution_count": 11,
   "id": "d5f1d7a5",
   "metadata": {},
   "outputs": [],
   "source": [
    "standardscaler = StandardScaler()"
   ]
  },
  {
   "cell_type": "code",
   "execution_count": 12,
   "id": "baabbf4e",
   "metadata": {},
   "outputs": [],
   "source": [
    "X_train_ss = standardscaler.fit_transform(num_features_train)\n",
    "X_train_ss = pd.DataFrame(X_train_ss, columns=train_features)"
   ]
  },
  {
   "cell_type": "code",
   "execution_count": 13,
   "id": "8310304e",
   "metadata": {
    "scrolled": true
   },
   "outputs": [],
   "source": [
    "X_test_ss = standardscaler.fit(num_features_train).transform(num_features_test)\n",
    "X_test_ss = pd.DataFrame(X_test_ss, columns=test_features)"
   ]
  },
  {
   "cell_type": "code",
   "execution_count": 14,
   "id": "1663d5c3",
   "metadata": {},
   "outputs": [],
   "source": [
    "X_train_ss = pd.concat([pd.DataFrame({'custid':train_id}),X_train_ss],axis = 1)\n",
    "X_test_ss = pd.concat([pd.DataFrame({'custid':tst_id}),X_test_ss],axis = 1)"
   ]
  },
  {
   "cell_type": "code",
   "execution_count": 15,
   "id": "35a529d8",
   "metadata": {},
   "outputs": [
    {
     "data": {
      "text/html": [
       "<div>\n",
       "<style scoped>\n",
       "    .dataframe tbody tr th:only-of-type {\n",
       "        vertical-align: middle;\n",
       "    }\n",
       "\n",
       "    .dataframe tbody tr th {\n",
       "        vertical-align: top;\n",
       "    }\n",
       "\n",
       "    .dataframe thead th {\n",
       "        text-align: right;\n",
       "    }\n",
       "</style>\n",
       "<table border=\"1\" class=\"dataframe\">\n",
       "  <thead>\n",
       "    <tr style=\"text-align: right;\">\n",
       "      <th></th>\n",
       "      <th>custid</th>\n",
       "      <th>refund_count</th>\n",
       "      <th>refund_bool</th>\n",
       "      <th>amt_refund</th>\n",
       "      <th>amt_refund_mean</th>\n",
       "      <th>amt_refund_max</th>\n",
       "      <th>love_brd_count</th>\n",
       "      <th>0</th>\n",
       "      <th>1_x</th>\n",
       "      <th>8_x</th>\n",
       "      <th>...</th>\n",
       "      <th>평균할부개월수</th>\n",
       "      <th>평균내점구매액</th>\n",
       "      <th>주중방문비율</th>\n",
       "      <th>국내상품_구매비율</th>\n",
       "      <th>할부구매가격</th>\n",
       "      <th>주말방문수</th>\n",
       "      <th>주중방문수</th>\n",
       "      <th>내점당편균구매건수</th>\n",
       "      <th>주중구매액</th>\n",
       "      <th>주말구매액</th>\n",
       "    </tr>\n",
       "  </thead>\n",
       "  <tbody>\n",
       "    <tr>\n",
       "      <th>0</th>\n",
       "      <td>0</td>\n",
       "      <td>-0.306255</td>\n",
       "      <td>-1.070333</td>\n",
       "      <td>0.305775</td>\n",
       "      <td>0.379956</td>\n",
       "      <td>0.284667</td>\n",
       "      <td>-0.276554</td>\n",
       "      <td>-0.009132</td>\n",
       "      <td>-0.006806</td>\n",
       "      <td>0.0</td>\n",
       "      <td>...</td>\n",
       "      <td>1.242241</td>\n",
       "      <td>0.352466</td>\n",
       "      <td>-0.853815</td>\n",
       "      <td>-2.222540</td>\n",
       "      <td>0.027352</td>\n",
       "      <td>0.0</td>\n",
       "      <td>-0.586844</td>\n",
       "      <td>-0.557100</td>\n",
       "      <td>-0.258033</td>\n",
       "      <td>-0.000623</td>\n",
       "    </tr>\n",
       "    <tr>\n",
       "      <th>1</th>\n",
       "      <td>2</td>\n",
       "      <td>1.029469</td>\n",
       "      <td>0.934289</td>\n",
       "      <td>-1.045830</td>\n",
       "      <td>-5.618556</td>\n",
       "      <td>-1.701235</td>\n",
       "      <td>-0.349193</td>\n",
       "      <td>-0.009132</td>\n",
       "      <td>-0.006806</td>\n",
       "      <td>0.0</td>\n",
       "      <td>...</td>\n",
       "      <td>2.202916</td>\n",
       "      <td>2.380250</td>\n",
       "      <td>0.152538</td>\n",
       "      <td>0.465766</td>\n",
       "      <td>0.903983</td>\n",
       "      <td>0.0</td>\n",
       "      <td>-0.651969</td>\n",
       "      <td>-0.247170</td>\n",
       "      <td>0.200668</td>\n",
       "      <td>0.140123</td>\n",
       "    </tr>\n",
       "    <tr>\n",
       "      <th>2</th>\n",
       "      <td>3</td>\n",
       "      <td>0.195841</td>\n",
       "      <td>0.934289</td>\n",
       "      <td>-0.188493</td>\n",
       "      <td>-0.424362</td>\n",
       "      <td>-0.542722</td>\n",
       "      <td>-0.349193</td>\n",
       "      <td>-0.009132</td>\n",
       "      <td>-0.006806</td>\n",
       "      <td>0.0</td>\n",
       "      <td>...</td>\n",
       "      <td>1.105002</td>\n",
       "      <td>-0.334549</td>\n",
       "      <td>0.141356</td>\n",
       "      <td>0.914639</td>\n",
       "      <td>-0.576654</td>\n",
       "      <td>0.0</td>\n",
       "      <td>0.390038</td>\n",
       "      <td>-0.303521</td>\n",
       "      <td>-0.129737</td>\n",
       "      <td>-0.146675</td>\n",
       "    </tr>\n",
       "    <tr>\n",
       "      <th>3</th>\n",
       "      <td>4</td>\n",
       "      <td>-0.306255</td>\n",
       "      <td>-1.070333</td>\n",
       "      <td>0.305775</td>\n",
       "      <td>0.379956</td>\n",
       "      <td>0.284667</td>\n",
       "      <td>-0.494471</td>\n",
       "      <td>-0.009132</td>\n",
       "      <td>-0.006806</td>\n",
       "      <td>0.0</td>\n",
       "      <td>...</td>\n",
       "      <td>3.575308</td>\n",
       "      <td>1.080194</td>\n",
       "      <td>0.571851</td>\n",
       "      <td>-0.318529</td>\n",
       "      <td>0.059467</td>\n",
       "      <td>0.0</td>\n",
       "      <td>-0.977596</td>\n",
       "      <td>-0.810679</td>\n",
       "      <td>-0.415451</td>\n",
       "      <td>-0.467551</td>\n",
       "    </tr>\n",
       "    <tr>\n",
       "      <th>4</th>\n",
       "      <td>5</td>\n",
       "      <td>-0.306255</td>\n",
       "      <td>-1.070333</td>\n",
       "      <td>0.305775</td>\n",
       "      <td>0.379956</td>\n",
       "      <td>0.284667</td>\n",
       "      <td>-0.203915</td>\n",
       "      <td>-0.009132</td>\n",
       "      <td>-0.006806</td>\n",
       "      <td>0.0</td>\n",
       "      <td>...</td>\n",
       "      <td>0.007089</td>\n",
       "      <td>0.460946</td>\n",
       "      <td>0.917785</td>\n",
       "      <td>-0.012704</td>\n",
       "      <td>0.597152</td>\n",
       "      <td>0.0</td>\n",
       "      <td>0.520288</td>\n",
       "      <td>-0.341088</td>\n",
       "      <td>0.499865</td>\n",
       "      <td>-0.176360</td>\n",
       "    </tr>\n",
       "    <tr>\n",
       "      <th>...</th>\n",
       "      <td>...</td>\n",
       "      <td>...</td>\n",
       "      <td>...</td>\n",
       "      <td>...</td>\n",
       "      <td>...</td>\n",
       "      <td>...</td>\n",
       "      <td>...</td>\n",
       "      <td>...</td>\n",
       "      <td>...</td>\n",
       "      <td>...</td>\n",
       "      <td>...</td>\n",
       "      <td>...</td>\n",
       "      <td>...</td>\n",
       "      <td>...</td>\n",
       "      <td>...</td>\n",
       "      <td>...</td>\n",
       "      <td>...</td>\n",
       "      <td>...</td>\n",
       "      <td>...</td>\n",
       "      <td>...</td>\n",
       "      <td>...</td>\n",
       "    </tr>\n",
       "    <tr>\n",
       "      <th>21582</th>\n",
       "      <td>29995</td>\n",
       "      <td>0.667477</td>\n",
       "      <td>0.934289</td>\n",
       "      <td>-0.652776</td>\n",
       "      <td>-0.235771</td>\n",
       "      <td>-1.322146</td>\n",
       "      <td>-0.131276</td>\n",
       "      <td>-0.009132</td>\n",
       "      <td>-0.006806</td>\n",
       "      <td>0.0</td>\n",
       "      <td>...</td>\n",
       "      <td>-0.130151</td>\n",
       "      <td>1.379639</td>\n",
       "      <td>0.231986</td>\n",
       "      <td>0.396708</td>\n",
       "      <td>1.376147</td>\n",
       "      <td>0.0</td>\n",
       "      <td>2.343800</td>\n",
       "      <td>0.157531</td>\n",
       "      <td>3.068997</td>\n",
       "      <td>2.468799</td>\n",
       "    </tr>\n",
       "    <tr>\n",
       "      <th>21583</th>\n",
       "      <td>29996</td>\n",
       "      <td>0.095076</td>\n",
       "      <td>0.934289</td>\n",
       "      <td>-0.080173</td>\n",
       "      <td>-0.611703</td>\n",
       "      <td>0.025911</td>\n",
       "      <td>-0.058637</td>\n",
       "      <td>-0.009132</td>\n",
       "      <td>-0.006806</td>\n",
       "      <td>0.0</td>\n",
       "      <td>...</td>\n",
       "      <td>-0.953586</td>\n",
       "      <td>-0.123420</td>\n",
       "      <td>0.911716</td>\n",
       "      <td>0.396708</td>\n",
       "      <td>0.138153</td>\n",
       "      <td>0.0</td>\n",
       "      <td>-0.456593</td>\n",
       "      <td>0.668531</td>\n",
       "      <td>-0.332529</td>\n",
       "      <td>-0.489068</td>\n",
       "    </tr>\n",
       "    <tr>\n",
       "      <th>21584</th>\n",
       "      <td>29997</td>\n",
       "      <td>-0.306255</td>\n",
       "      <td>-1.070333</td>\n",
       "      <td>0.305775</td>\n",
       "      <td>0.379956</td>\n",
       "      <td>0.284667</td>\n",
       "      <td>0.014002</td>\n",
       "      <td>-0.009132</td>\n",
       "      <td>-0.006806</td>\n",
       "      <td>0.0</td>\n",
       "      <td>...</td>\n",
       "      <td>-0.541868</td>\n",
       "      <td>0.597768</td>\n",
       "      <td>-1.457626</td>\n",
       "      <td>0.668005</td>\n",
       "      <td>1.142765</td>\n",
       "      <td>0.0</td>\n",
       "      <td>-0.196091</td>\n",
       "      <td>-0.176732</td>\n",
       "      <td>0.084848</td>\n",
       "      <td>0.824236</td>\n",
       "    </tr>\n",
       "    <tr>\n",
       "      <th>21585</th>\n",
       "      <td>29998</td>\n",
       "      <td>-0.266555</td>\n",
       "      <td>0.934289</td>\n",
       "      <td>0.266694</td>\n",
       "      <td>0.233196</td>\n",
       "      <td>0.211388</td>\n",
       "      <td>-0.421832</td>\n",
       "      <td>-0.009132</td>\n",
       "      <td>-0.006806</td>\n",
       "      <td>0.0</td>\n",
       "      <td>...</td>\n",
       "      <td>0.418806</td>\n",
       "      <td>-0.630866</td>\n",
       "      <td>-0.492560</td>\n",
       "      <td>0.914639</td>\n",
       "      <td>-0.676692</td>\n",
       "      <td>0.0</td>\n",
       "      <td>-0.456593</td>\n",
       "      <td>-0.599363</td>\n",
       "      <td>-0.499391</td>\n",
       "      <td>-0.410067</td>\n",
       "    </tr>\n",
       "    <tr>\n",
       "      <th>21586</th>\n",
       "      <td>29999</td>\n",
       "      <td>-0.306255</td>\n",
       "      <td>-1.070333</td>\n",
       "      <td>0.305775</td>\n",
       "      <td>0.379956</td>\n",
       "      <td>0.284667</td>\n",
       "      <td>-0.494471</td>\n",
       "      <td>-0.009132</td>\n",
       "      <td>-0.006806</td>\n",
       "      <td>0.0</td>\n",
       "      <td>...</td>\n",
       "      <td>-1.228064</td>\n",
       "      <td>-0.694192</td>\n",
       "      <td>0.264355</td>\n",
       "      <td>-0.727941</td>\n",
       "      <td>-0.134786</td>\n",
       "      <td>0.0</td>\n",
       "      <td>-1.042722</td>\n",
       "      <td>-0.810679</td>\n",
       "      <td>-0.620276</td>\n",
       "      <td>-0.584518</td>\n",
       "    </tr>\n",
       "  </tbody>\n",
       "</table>\n",
       "<p>21587 rows × 1815 columns</p>\n",
       "</div>"
      ],
      "text/plain": [
       "       custid  refund_count  refund_bool  amt_refund  amt_refund_mean  \\\n",
       "0           0     -0.306255    -1.070333    0.305775         0.379956   \n",
       "1           2      1.029469     0.934289   -1.045830        -5.618556   \n",
       "2           3      0.195841     0.934289   -0.188493        -0.424362   \n",
       "3           4     -0.306255    -1.070333    0.305775         0.379956   \n",
       "4           5     -0.306255    -1.070333    0.305775         0.379956   \n",
       "...       ...           ...          ...         ...              ...   \n",
       "21582   29995      0.667477     0.934289   -0.652776        -0.235771   \n",
       "21583   29996      0.095076     0.934289   -0.080173        -0.611703   \n",
       "21584   29997     -0.306255    -1.070333    0.305775         0.379956   \n",
       "21585   29998     -0.266555     0.934289    0.266694         0.233196   \n",
       "21586   29999     -0.306255    -1.070333    0.305775         0.379956   \n",
       "\n",
       "       amt_refund_max  love_brd_count         0       1_x  8_x  ...   평균할부개월수  \\\n",
       "0            0.284667       -0.276554 -0.009132 -0.006806  0.0  ...  1.242241   \n",
       "1           -1.701235       -0.349193 -0.009132 -0.006806  0.0  ...  2.202916   \n",
       "2           -0.542722       -0.349193 -0.009132 -0.006806  0.0  ...  1.105002   \n",
       "3            0.284667       -0.494471 -0.009132 -0.006806  0.0  ...  3.575308   \n",
       "4            0.284667       -0.203915 -0.009132 -0.006806  0.0  ...  0.007089   \n",
       "...               ...             ...       ...       ...  ...  ...       ...   \n",
       "21582       -1.322146       -0.131276 -0.009132 -0.006806  0.0  ... -0.130151   \n",
       "21583        0.025911       -0.058637 -0.009132 -0.006806  0.0  ... -0.953586   \n",
       "21584        0.284667        0.014002 -0.009132 -0.006806  0.0  ... -0.541868   \n",
       "21585        0.211388       -0.421832 -0.009132 -0.006806  0.0  ...  0.418806   \n",
       "21586        0.284667       -0.494471 -0.009132 -0.006806  0.0  ... -1.228064   \n",
       "\n",
       "        평균내점구매액    주중방문비율  국내상품_구매비율    할부구매가격  주말방문수     주중방문수  내점당편균구매건수  \\\n",
       "0      0.352466 -0.853815  -2.222540  0.027352    0.0 -0.586844  -0.557100   \n",
       "1      2.380250  0.152538   0.465766  0.903983    0.0 -0.651969  -0.247170   \n",
       "2     -0.334549  0.141356   0.914639 -0.576654    0.0  0.390038  -0.303521   \n",
       "3      1.080194  0.571851  -0.318529  0.059467    0.0 -0.977596  -0.810679   \n",
       "4      0.460946  0.917785  -0.012704  0.597152    0.0  0.520288  -0.341088   \n",
       "...         ...       ...        ...       ...    ...       ...        ...   \n",
       "21582  1.379639  0.231986   0.396708  1.376147    0.0  2.343800   0.157531   \n",
       "21583 -0.123420  0.911716   0.396708  0.138153    0.0 -0.456593   0.668531   \n",
       "21584  0.597768 -1.457626   0.668005  1.142765    0.0 -0.196091  -0.176732   \n",
       "21585 -0.630866 -0.492560   0.914639 -0.676692    0.0 -0.456593  -0.599363   \n",
       "21586 -0.694192  0.264355  -0.727941 -0.134786    0.0 -1.042722  -0.810679   \n",
       "\n",
       "          주중구매액     주말구매액  \n",
       "0     -0.258033 -0.000623  \n",
       "1      0.200668  0.140123  \n",
       "2     -0.129737 -0.146675  \n",
       "3     -0.415451 -0.467551  \n",
       "4      0.499865 -0.176360  \n",
       "...         ...       ...  \n",
       "21582  3.068997  2.468799  \n",
       "21583 -0.332529 -0.489068  \n",
       "21584  0.084848  0.824236  \n",
       "21585 -0.499391 -0.410067  \n",
       "21586 -0.620276 -0.584518  \n",
       "\n",
       "[21587 rows x 1815 columns]"
      ]
     },
     "execution_count": 15,
     "metadata": {},
     "output_type": "execute_result"
    }
   ],
   "source": [
    "X_train_ss"
   ]
  },
  {
   "cell_type": "markdown",
   "id": "4dd64aaa",
   "metadata": {},
   "source": [
    "***"
   ]
  },
  {
   "cell_type": "markdown",
   "id": "bc7c9075",
   "metadata": {},
   "source": [
    "# 동일 컬럼명 제거"
   ]
  },
  {
   "cell_type": "code",
   "execution_count": 16,
   "id": "8f64cc14",
   "metadata": {},
   "outputs": [],
   "source": [
    "kmean_train_num.columns = kmean_train_num.columns.map(lambda x : \"km_n_\" + str(x))\n",
    "kmean_test_num.columns = kmean_test_num.columns.map(lambda x : \"km_n_\" + str(x))\n",
    "kmean_train.columns = kmean_train.columns.map(lambda x : \"km_\" + str(x))\n",
    "kmean_test.columns = kmean_test.columns.map(lambda x : \"km_\" + str(x))"
   ]
  },
  {
   "cell_type": "markdown",
   "id": "a317748d",
   "metadata": {},
   "source": [
    "***"
   ]
  },
  {
   "cell_type": "code",
   "execution_count": 17,
   "id": "5f6e27c8",
   "metadata": {},
   "outputs": [],
   "source": [
    "all_features_train =  pd.concat([X_train_ss, onehot_features_train, w2v_features_train, kmean_train_num, kmean_train], axis = 1)\n",
    "all_features_test =  pd.concat([X_test_ss, onehot_features_test, w2v_features_test, kmean_test_num, kmean_test], axis = 1)"
   ]
  },
  {
   "cell_type": "code",
   "execution_count": 15,
   "id": "df6ebd45",
   "metadata": {},
   "outputs": [],
   "source": [
    "target = pd.read_csv(os.path.abspath(\"../input\")+'/y_train.csv' , encoding = 'cp949').group"
   ]
  },
  {
   "cell_type": "code",
   "execution_count": 16,
   "id": "c6fb3ec1",
   "metadata": {},
   "outputs": [],
   "source": [
    "# lgbm 에서 json 오류 방지를 위해 특수문자 , 제거\n",
    "\n",
    "import re\n",
    "all_features_train.rename(columns = lambda x:re.sub(',', '/', x), inplace = True)\n",
    "all_features_test.rename(columns = lambda x:re.sub(',', '/', x), inplace = True)"
   ]
  },
  {
   "cell_type": "code",
   "execution_count": 17,
   "id": "3e75a0db",
   "metadata": {},
   "outputs": [],
   "source": [
    "all_features_train = all_features_train.fillna(0.00001)\n",
    "all_features_test = all_features_test.fillna(0.00001)"
   ]
  },
  {
   "cell_type": "markdown",
   "id": "6e61324c",
   "metadata": {},
   "source": [
    "***"
   ]
  },
  {
   "cell_type": "code",
   "execution_count": 19,
   "id": "62dfe247",
   "metadata": {},
   "outputs": [],
   "source": [
    "all_features_train.columns = all_features_train.columns.astype(str)\n",
    "all_features_test.columns = all_features_test.columns.astype(str)"
   ]
  },
  {
   "cell_type": "code",
   "execution_count": 20,
   "id": "44920127",
   "metadata": {},
   "outputs": [],
   "source": [
    "all_features_train = all_features_train.iloc[:, 1:]\n",
    "all_features_test = all_features_test.iloc[:, 1:]"
   ]
  },
  {
   "cell_type": "markdown",
   "id": "0515e0ec",
   "metadata": {},
   "source": [
    "***"
   ]
  },
  {
   "cell_type": "markdown",
   "id": "df80a155",
   "metadata": {},
   "source": [
    "# Feature Selection"
   ]
  },
  {
   "cell_type": "code",
   "execution_count": 21,
   "id": "3cb3b98b",
   "metadata": {},
   "outputs": [],
   "source": [
    "clf = LGBMClassifier(random_state = 1000)"
   ]
  },
  {
   "cell_type": "code",
   "execution_count": 22,
   "id": "ca4004f9",
   "metadata": {},
   "outputs": [],
   "source": [
    "from sklearn.feature_selection import SelectFromModel"
   ]
  },
  {
   "cell_type": "code",
   "execution_count": 23,
   "id": "c58fa225",
   "metadata": {},
   "outputs": [],
   "source": [
    "all_features_train_fs = all_features_train\n",
    "all_features_test_fs = all_features_test"
   ]
  },
  {
   "cell_type": "code",
   "execution_count": 24,
   "id": "93f08433",
   "metadata": {},
   "outputs": [],
   "source": [
    "smf = SelectFromModel(clf, threshold='3.0*mean')\n",
    "smf.fit(all_features_train_fs, target)\n",
    "\n",
    "X_new = smf.transform(all_features_train_fs)\n",
    "X_te_new = smf.transform(all_features_test_fs)\n",
    "\n",
    "feature_selection_idx = smf.get_support()\n",
    "feature_selection_name = all_features_train_fs.columns[feature_selection_idx]"
   ]
  },
  {
   "cell_type": "code",
   "execution_count": 25,
   "id": "b701a0e4",
   "metadata": {
    "scrolled": false
   },
   "outputs": [
    {
     "data": {
      "text/plain": [
       "Index(['19_x', '19_y', 'dis_rate', 'sales_time', '남성', '비남성', '남성part', '비화장품',\n",
       "       '화장품_x', 'real_amt',\n",
       "       ...\n",
       "       'customer_info_v287', 'customer_info_v288', 'customer_info_v290',\n",
       "       'customer_info_v291', 'customer_info_v293', 'customer_info_v294',\n",
       "       'customer_info_v296', 'customer_info_v297', 'customer_info_v298',\n",
       "       'customer_info_v299'],\n",
       "      dtype='object', length=547)"
      ]
     },
     "execution_count": 25,
     "metadata": {},
     "output_type": "execute_result"
    }
   ],
   "source": [
    "all_features_train_fs.columns[feature_selection_idx]"
   ]
  },
  {
   "cell_type": "markdown",
   "id": "b0c21e53",
   "metadata": {},
   "source": [
    "Index(['19_x', '19_y', 'dis_rate', 'sales_time', '남성', '비남성', '남성part', '비화장품',\n",
    "       '화장품_x', 'real_amt',\n",
    "       ...\n",
    "       'customer_info_v287', 'customer_info_v288', 'customer_info_v290',\n",
    "       'customer_info_v291', 'customer_info_v293', 'customer_info_v294',\n",
    "       'customer_info_v296', 'customer_info_v297', 'customer_info_v298',\n",
    "       'customer_info_v299'],\n",
    "      dtype='object', length=547)"
   ]
  },
  {
   "cell_type": "code",
   "execution_count": 26,
   "id": "b1aaae5e",
   "metadata": {},
   "outputs": [],
   "source": [
    "X_new = pd.DataFrame(X_new)\n",
    "X_te_new = pd.DataFrame(X_te_new)\n",
    "\n",
    "X_new.columns = feature_selection_name\n",
    "X_te_new.columns = feature_selection_name"
   ]
  },
  {
   "cell_type": "code",
   "execution_count": 27,
   "id": "8e2932d6",
   "metadata": {},
   "outputs": [],
   "source": [
    "X_new.to_csv(\"choi_select_547_train.csv\",index = False,encoding = 'utf-8')\n",
    "X_te_new.to_csv(\"choi_select_547_test.csv\",index = False,encoding = 'utf-8')"
   ]
  },
  {
   "cell_type": "code",
   "execution_count": 28,
   "id": "4495d83b",
   "metadata": {},
   "outputs": [
    {
     "name": "stdout",
     "output_type": "stream",
     "text": [
      "교차 검증별 정확도: [-1.5083 -1.5382 -1.5056 -1.4992 -1.5094]\n",
      "평균 검증 정확도: -1.5121\n",
      "log_loss: -1.5121296472150083\n"
     ]
    }
   ],
   "source": [
    "from sklearn.model_selection import cross_val_score\n",
    "\n",
    "scores = cross_val_score(clf, X_new, target, scoring='neg_log_loss', cv=5)\n",
    "print('교차 검증별 정확도:', np.round(scores, 4))\n",
    "print('평균 검증 정확도:', np.round(np.mean(scores), 4))\n",
    "print('log_loss:', np.mean(scores))"
   ]
  },
  {
   "cell_type": "code",
   "execution_count": 29,
   "id": "648d73b6",
   "metadata": {},
   "outputs": [
    {
     "name": "stdout",
     "output_type": "stream",
     "text": [
      "교차 검증별 정확도: [-1.5005 -1.5201 -1.5167 -1.4976 -1.528 ]\n",
      "평균 검증 정확도: -1.5126\n",
      "log_loss: -1.512588286895974\n"
     ]
    }
   ],
   "source": [
    "cv = StratifiedKFold(n_splits=5, shuffle=True, random_state=1000)\n",
    "str_scores = cross_val_score(clf, X_new, target, scoring='neg_log_loss', cv=cv)\n",
    "print('교차 검증별 정확도:', np.round(str_scores, 4))\n",
    "print('평균 검증 정확도:', np.round(np.mean(str_scores), 4))\n",
    "print('log_loss:', np.mean(str_scores))"
   ]
  },
  {
   "cell_type": "markdown",
   "id": "3fed19a3",
   "metadata": {},
   "source": [
    "***"
   ]
  }
 ],
 "metadata": {
  "kernelspec": {
   "display_name": "Python 3 (ipykernel)",
   "language": "python",
   "name": "python3"
  },
  "language_info": {
   "codemirror_mode": {
    "name": "ipython",
    "version": 3
   },
   "file_extension": ".py",
   "mimetype": "text/x-python",
   "name": "python",
   "nbconvert_exporter": "python",
   "pygments_lexer": "ipython3",
   "version": "3.9.13"
  }
 },
 "nbformat": 4,
 "nbformat_minor": 5
}
